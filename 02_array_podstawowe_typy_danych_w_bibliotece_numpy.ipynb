{
  "nbformat": 4,
  "nbformat_minor": 0,
  "metadata": {
    "colab": {
      "provenance": [],
      "name": "02_array_podstawowe_typy_danych_w_bibliotece_numpy.ipynb",
      "collapsed_sections": [],
      "authorship_tag": "ABX9TyOdxwLOFIhEvgRFY3/LUzOg",
      "include_colab_link": true
    },
    "kernelspec": {
      "name": "python3",
      "display_name": "Python 3"
    },
    "language_info": {
      "name": "python"
    }
  },
  "cells": [
    {
      "cell_type": "markdown",
      "metadata": {
        "id": "view-in-github",
        "colab_type": "text"
      },
      "source": [
        "<a href=\"https://colab.research.google.com/github/davidofitaly/Data-Science-Bootcamp-w-j-zyku-Python---od-A-do-Z-12.5h-/blob/main/02_array_podstawowe_typy_danych_w_bibliotece_numpy.ipynb\" target=\"_parent\"><img src=\"https://colab.research.google.com/assets/colab-badge.svg\" alt=\"Open In Colab\"/></a>"
      ]
    },
    {
      "cell_type": "code",
      "source": [
        "import numpy as np\n",
        "\n"
      ],
      "metadata": {
        "id": "fPgPg8t6tK8n"
      },
      "execution_count": null,
      "outputs": []
    },
    {
      "cell_type": "markdown",
      "source": [
        "TYPY DANYCH \n"
      ],
      "metadata": {
        "id": "hHRaUHSXtnyh"
      }
    },
    {
      "cell_type": "code",
      "source": [
        "A = np.array([1,2,3])\n",
        "\n",
        "A.dtype"
      ],
      "metadata": {
        "id": "Hu3jQIbCttTY",
        "outputId": "c47c30ee-462c-4120-b99e-de7061adff1b",
        "colab": {
          "base_uri": "https://localhost:8080/"
        }
      },
      "execution_count": 49,
      "outputs": [
        {
          "output_type": "execute_result",
          "data": {
            "text/plain": [
              "dtype('int64')"
            ]
          },
          "metadata": {},
          "execution_count": 49
        }
      ]
    },
    {
      "cell_type": "code",
      "source": [
        "A = np.array([1.1,2.2,3.3,4.4])\n",
        "A.dtype\n"
      ],
      "metadata": {
        "id": "vxI56sBAuUUj",
        "outputId": "dabe875c-71af-44c6-d18f-a7f6c07d875b",
        "colab": {
          "base_uri": "https://localhost:8080/"
        }
      },
      "execution_count": 51,
      "outputs": [
        {
          "output_type": "execute_result",
          "data": {
            "text/plain": [
              "dtype('float64')"
            ]
          },
          "metadata": {},
          "execution_count": 51
        }
      ]
    },
    {
      "cell_type": "code",
      "source": [
        "A = np.array([1,2,3], dtype='float')\n",
        "A.dtype\n",
        "\n",
        "A"
      ],
      "metadata": {
        "id": "JzzbOyYiujrr",
        "outputId": "46070812-e04f-4f6e-a3a3-23c678d414d7",
        "colab": {
          "base_uri": "https://localhost:8080/"
        }
      },
      "execution_count": 60,
      "outputs": [
        {
          "output_type": "execute_result",
          "data": {
            "text/plain": [
              "array([1., 2., 3.])"
            ]
          },
          "metadata": {},
          "execution_count": 60
        }
      ]
    },
    {
      "cell_type": "code",
      "source": [
        "A = np.array([1.1,2.2], dtype='int')\n",
        "A.dtype\n",
        "\n",
        "A"
      ],
      "metadata": {
        "id": "na2IfyQyurFv",
        "outputId": "e2e0e0eb-a0e5-45c5-9206-e71d0b0af9cb",
        "colab": {
          "base_uri": "https://localhost:8080/"
        }
      },
      "execution_count": 59,
      "outputs": [
        {
          "output_type": "execute_result",
          "data": {
            "text/plain": [
              "array([1, 2])"
            ]
          },
          "metadata": {},
          "execution_count": 59
        }
      ]
    },
    {
      "cell_type": "code",
      "source": [
        "A = np.array([1,2,3], dtype='complex')\n",
        "\n",
        "# complex konwertuje liczbe na liczbe złożoną \n",
        "\n",
        "A"
      ],
      "metadata": {
        "id": "Fka6k0ZAuwxF",
        "outputId": "7f3a3261-217e-482f-ba31-4afa5a639baf",
        "colab": {
          "base_uri": "https://localhost:8080/"
        }
      },
      "execution_count": 61,
      "outputs": [
        {
          "output_type": "execute_result",
          "data": {
            "text/plain": [
              "array([1.+0.j, 2.+0.j, 3.+0.j])"
            ]
          },
          "metadata": {},
          "execution_count": 61
        }
      ]
    },
    {
      "cell_type": "code",
      "source": [
        "A = np.array([True, False])\n",
        "\n",
        "A.dtype"
      ],
      "metadata": {
        "id": "_WFRN_kMvMAT",
        "outputId": "2e35927e-ad40-4e86-d457-b631796223ac",
        "colab": {
          "base_uri": "https://localhost:8080/"
        }
      },
      "execution_count": 63,
      "outputs": [
        {
          "output_type": "execute_result",
          "data": {
            "text/plain": [
              "dtype('bool')"
            ]
          },
          "metadata": {},
          "execution_count": 63
        }
      ]
    },
    {
      "cell_type": "code",
      "source": [
        "A = np.array([24,80,120], dtype=np.int8)\n",
        "\n",
        "A.dtype"
      ],
      "metadata": {
        "id": "oF-taL66vvGq",
        "outputId": "386c21b3-8c70-4899-c3e0-d03f0c18da4e",
        "colab": {
          "base_uri": "https://localhost:8080/"
        }
      },
      "execution_count": 65,
      "outputs": [
        {
          "output_type": "execute_result",
          "data": {
            "text/plain": [
              "dtype('int8')"
            ]
          },
          "metadata": {},
          "execution_count": 65
        }
      ]
    },
    {
      "cell_type": "code",
      "source": [
        "A = np.array([10,100,30], dtype=np.uint8)\n",
        "\n",
        "A.dtype"
      ],
      "metadata": {
        "id": "hXOhJn7Av1w7",
        "outputId": "ae2c20b2-3ab4-479d-b712-84dbf0aef54d",
        "colab": {
          "base_uri": "https://localhost:8080/"
        }
      },
      "execution_count": 68,
      "outputs": [
        {
          "output_type": "execute_result",
          "data": {
            "text/plain": [
              "dtype('uint8')"
            ]
          },
          "metadata": {},
          "execution_count": 68
        }
      ]
    }
  ]
}