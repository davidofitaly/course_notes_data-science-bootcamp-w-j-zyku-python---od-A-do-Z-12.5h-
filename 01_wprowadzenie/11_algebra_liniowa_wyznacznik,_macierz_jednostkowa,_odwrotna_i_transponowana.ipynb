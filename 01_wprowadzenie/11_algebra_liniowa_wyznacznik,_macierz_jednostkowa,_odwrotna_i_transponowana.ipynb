{
  "nbformat": 4,
  "nbformat_minor": 0,
  "metadata": {
    "colab": {
      "provenance": [],
      "authorship_tag": "ABX9TyNdz5CtQTboaeeSPlNajF+U",
      "include_colab_link": true
    },
    "kernelspec": {
      "name": "python3",
      "display_name": "Python 3"
    },
    "language_info": {
      "name": "python"
    }
  },
  "cells": [
    {
      "cell_type": "markdown",
      "metadata": {
        "id": "view-in-github",
        "colab_type": "text"
      },
      "source": [
        "<a href=\"https://colab.research.google.com/github/davidofitaly/Data-Science-Bootcamp-w-j-zyku-Python---od-A-do-Z-12.5h-/blob/main/01_wprowadzenie/11_algebra_liniowa_wyznacznik%2C_macierz_jednostkowa%2C_odwrotna_i_transponowana.ipynb\" target=\"_parent\"><img src=\"https://colab.research.google.com/assets/colab-badge.svg\" alt=\"Open In Colab\"/></a>"
      ]
    },
    {
      "cell_type": "markdown",
      "source": [
        "WYZNACZNIK MACIERZY"
      ],
      "metadata": {
        "id": "dss4tRqCbKJL"
      }
    },
    {
      "cell_type": "code",
      "execution_count": 1,
      "metadata": {
        "id": "tN1dJWOUa8_F"
      },
      "outputs": [],
      "source": [
        "import numpy as np\n"
      ]
    },
    {
      "cell_type": "code",
      "source": [
        "# det\n",
        "\n",
        "A = np.array([[1,2], [3,4]])\n",
        "np.linalg.det(A)"
      ],
      "metadata": {
        "colab": {
          "base_uri": "https://localhost:8080/"
        },
        "id": "wSHB8WZ1bTDY",
        "outputId": "a19669aa-3fbf-4331-84fb-182bf3833dfd"
      },
      "execution_count": 2,
      "outputs": [
        {
          "output_type": "execute_result",
          "data": {
            "text/plain": [
              "-2.0000000000000004"
            ]
          },
          "metadata": {},
          "execution_count": 2
        }
      ]
    },
    {
      "cell_type": "markdown",
      "source": [
        "ŚLAD MACIERZY\n"
      ],
      "metadata": {
        "id": "buuztymIcAss"
      }
    },
    {
      "cell_type": "code",
      "source": [
        "# suma liczb po przekątnej\n",
        "\n",
        "A = np.array([[2,3], [1,6]])\n",
        "np.trace(A)\n"
      ],
      "metadata": {
        "colab": {
          "base_uri": "https://localhost:8080/"
        },
        "id": "8_L6qRI6cCAy",
        "outputId": "c0a30d66-1183-4020-e1af-ed8f2bed01c5"
      },
      "execution_count": 6,
      "outputs": [
        {
          "output_type": "execute_result",
          "data": {
            "text/plain": [
              "8"
            ]
          },
          "metadata": {},
          "execution_count": 6
        }
      ]
    },
    {
      "cell_type": "markdown",
      "source": [
        "MACIERZ JEDNOSTKOWA"
      ],
      "metadata": {
        "id": "K_-3NPdxcp8r"
      }
    },
    {
      "cell_type": "code",
      "source": [
        "# po przekątnej samej 0\n",
        "\n",
        "np.eye(5, dtype='int')"
      ],
      "metadata": {
        "colab": {
          "base_uri": "https://localhost:8080/"
        },
        "id": "h_yfROwLcr3z",
        "outputId": "b698b76f-96c0-427d-e33d-7980278bbb30"
      },
      "execution_count": 7,
      "outputs": [
        {
          "output_type": "execute_result",
          "data": {
            "text/plain": [
              "array([[1, 0, 0, 0, 0],\n",
              "       [0, 1, 0, 0, 0],\n",
              "       [0, 0, 1, 0, 0],\n",
              "       [0, 0, 0, 1, 0],\n",
              "       [0, 0, 0, 0, 1]])"
            ]
          },
          "metadata": {},
          "execution_count": 7
        }
      ]
    },
    {
      "cell_type": "markdown",
      "source": [
        "MACIERZ ODWROTNA"
      ],
      "metadata": {
        "id": "LkV5brLoc6g4"
      }
    },
    {
      "cell_type": "code",
      "source": [
        "# macierz odwrotna A *B = B*A = 1\n",
        "\n",
        "A = np.array([[2,4], [-1,3]])\n",
        "\n",
        "B = np.linalg.inv(A)\n",
        "B"
      ],
      "metadata": {
        "colab": {
          "base_uri": "https://localhost:8080/"
        },
        "id": "GbhaUqJNc8C8",
        "outputId": "951f6477-d836-4b6b-ff0c-cf2beefc8917"
      },
      "execution_count": 10,
      "outputs": [
        {
          "output_type": "execute_result",
          "data": {
            "text/plain": [
              "array([[ 0.3, -0.4],\n",
              "       [ 0.1,  0.2]])"
            ]
          },
          "metadata": {},
          "execution_count": 10
        }
      ]
    },
    {
      "cell_type": "markdown",
      "source": [
        "MACIERZ TRANSPONOWANA"
      ],
      "metadata": {
        "id": "2icXxpLodmMC"
      }
    },
    {
      "cell_type": "code",
      "source": [
        "# transpose\n",
        "\n",
        "np.transpose(A)"
      ],
      "metadata": {
        "colab": {
          "base_uri": "https://localhost:8080/"
        },
        "id": "DMAyqMGidnjx",
        "outputId": "4a60d282-4358-4fad-d361-8b81e198e1ac"
      },
      "execution_count": 12,
      "outputs": [
        {
          "output_type": "execute_result",
          "data": {
            "text/plain": [
              "array([[ 2, -1],\n",
              "       [ 4,  3]])"
            ]
          },
          "metadata": {},
          "execution_count": 12
        }
      ]
    },
    {
      "cell_type": "code",
      "source": [
        "A.T"
      ],
      "metadata": {
        "id": "w_t1MCR_eTrm",
        "outputId": "7eb0d9ee-7854-406e-ab52-7a554dc382d0",
        "colab": {
          "base_uri": "https://localhost:8080/"
        }
      },
      "execution_count": 13,
      "outputs": [
        {
          "output_type": "execute_result",
          "data": {
            "text/plain": [
              "array([[ 2, -1],\n",
              "       [ 4,  3]])"
            ]
          },
          "metadata": {},
          "execution_count": 13
        }
      ]
    }
  ]
}