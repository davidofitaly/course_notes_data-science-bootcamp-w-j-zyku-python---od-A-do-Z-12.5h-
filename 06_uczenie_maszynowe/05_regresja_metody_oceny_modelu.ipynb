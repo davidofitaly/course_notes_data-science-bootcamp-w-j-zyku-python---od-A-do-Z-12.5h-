{
  "nbformat": 4,
  "nbformat_minor": 0,
  "metadata": {
    "colab": {
      "provenance": [],
      "authorship_tag": "ABX9TyMuUyg1b9JRHPzQdjMP4wZw",
      "include_colab_link": true
    },
    "kernelspec": {
      "name": "python3",
      "display_name": "Python 3"
    },
    "language_info": {
      "name": "python"
    }
  },
  "cells": [
    {
      "cell_type": "markdown",
      "metadata": {
        "id": "view-in-github",
        "colab_type": "text"
      },
      "source": [
        "<a href=\"https://colab.research.google.com/github/davidofitaly/course_notes_data-science-bootcamp-w-j-zyku-python---od-A-do-Z-12.5h-/blob/main/06_uczenie_maszynowe/05_regresja_metody_oceny_modelu.ipynb\" target=\"_parent\"><img src=\"https://colab.research.google.com/assets/colab-badge.svg\" alt=\"Open In Colab\"/></a>"
      ]
    },
    {
      "cell_type": "markdown",
      "source": [
        "METRYKI-PROBLEM REGRESJI"
      ],
      "metadata": {
        "id": "wMy5gqcJfO7y"
      }
    },
    {
      "cell_type": "code",
      "execution_count": 1,
      "metadata": {
        "id": "Y_X0fUX-d9Up"
      },
      "outputs": [],
      "source": [
        "import numpy as np\n",
        "import pandas as pd\n",
        "import plotly.express as px\n",
        "import plotly.graph_objects as go"
      ]
    },
    {
      "cell_type": "code",
      "source": [
        "y_true = 100 + 20 * np.random.randn(50)\n",
        "y_true"
      ],
      "metadata": {
        "colab": {
          "base_uri": "https://localhost:8080/"
        },
        "id": "pftnyuJmecXf",
        "outputId": "81b4a08f-0d16-4a19-c894-c6b9bbb59f55"
      },
      "execution_count": 2,
      "outputs": [
        {
          "output_type": "execute_result",
          "data": {
            "text/plain": [
              "array([ 95.30969567, 108.17888623,  83.32677241,  93.35286587,\n",
              "        85.86462577, 121.86357439,  83.49229982, 106.41372248,\n",
              "       141.5585212 ,  86.93294471, 106.41476418, 105.36053185,\n",
              "        86.76741973, 120.27874683,  84.93610027, 123.93375879,\n",
              "        64.99949286,  88.62409716,  97.94039186,  95.36896385,\n",
              "        93.34075923,  82.98328115,  75.68168733, 131.62618559,\n",
              "       116.37828936,  86.13154151,  78.12217621,  89.72504221,\n",
              "       133.11146805, 114.93760014, 106.04169862,  74.12832358,\n",
              "        92.81891871, 100.112118  ,  92.44240158, 102.43591999,\n",
              "        74.88577943, 115.55535797, 128.47437402, 121.03718042,\n",
              "        98.0609505 ,  99.78556683, 137.03960695,  95.95705452,\n",
              "       108.53678455,  76.38939775, 102.99960293,  96.40413844,\n",
              "        95.11553616,  94.15424203])"
            ]
          },
          "metadata": {},
          "execution_count": 2
        }
      ]
    },
    {
      "cell_type": "code",
      "source": [
        "y_pred = y_true + 10 * np.random.randn(50)\n",
        "y_pred"
      ],
      "metadata": {
        "colab": {
          "base_uri": "https://localhost:8080/"
        },
        "id": "OcIGR7NLejWH",
        "outputId": "e847ad42-bba7-4a8e-f927-4c4ce67fede7"
      },
      "execution_count": 4,
      "outputs": [
        {
          "output_type": "execute_result",
          "data": {
            "text/plain": [
              "array([ 90.80693889, 106.60135324,  88.47558615, 104.41560477,\n",
              "        74.00438316, 134.7563838 ,  80.38462494, 105.91249648,\n",
              "       146.55694241,  85.22633245, 119.36424879, 111.20320708,\n",
              "        82.52714559, 110.31603796,  94.19916681, 120.16574516,\n",
              "        63.12071859,  89.06469254, 100.81090186,  84.22778709,\n",
              "        76.16497513,  81.81717586,  84.89556979, 144.22787995,\n",
              "       135.58825099,  96.40473053,  68.97668384,  97.32530654,\n",
              "       143.05127409, 109.91407512, 107.02958804,  72.072123  ,\n",
              "        84.01147919, 102.36570888,  91.28281957,  97.66832852,\n",
              "        67.7714722 , 110.67293988, 119.76073601, 115.69608912,\n",
              "        92.48155274,  95.42189005, 134.10230824, 102.8702944 ,\n",
              "       121.27529816,  80.75988341, 101.83257345, 100.97898359,\n",
              "        98.75197534,  84.49396284])"
            ]
          },
          "metadata": {},
          "execution_count": 4
        }
      ]
    },
    {
      "cell_type": "code",
      "source": [
        "results = pd.DataFrame({'y_true': y_true, 'y_pred': y_pred})\n",
        "results.head()"
      ],
      "metadata": {
        "colab": {
          "base_uri": "https://localhost:8080/",
          "height": 206
        },
        "id": "cgGCyAnReyMp",
        "outputId": "3d7788ba-579d-435a-9a94-6d317039ad2f"
      },
      "execution_count": 6,
      "outputs": [
        {
          "output_type": "execute_result",
          "data": {
            "text/plain": [
              "       y_true      y_pred\n",
              "0   95.309696   90.806939\n",
              "1  108.178886  106.601353\n",
              "2   83.326772   88.475586\n",
              "3   93.352866  104.415605\n",
              "4   85.864626   74.004383"
            ],
            "text/html": [
              "\n",
              "  <div id=\"df-8cdc7038-c98d-463c-abe9-1fe5c29cae6c\">\n",
              "    <div class=\"colab-df-container\">\n",
              "      <div>\n",
              "<style scoped>\n",
              "    .dataframe tbody tr th:only-of-type {\n",
              "        vertical-align: middle;\n",
              "    }\n",
              "\n",
              "    .dataframe tbody tr th {\n",
              "        vertical-align: top;\n",
              "    }\n",
              "\n",
              "    .dataframe thead th {\n",
              "        text-align: right;\n",
              "    }\n",
              "</style>\n",
              "<table border=\"1\" class=\"dataframe\">\n",
              "  <thead>\n",
              "    <tr style=\"text-align: right;\">\n",
              "      <th></th>\n",
              "      <th>y_true</th>\n",
              "      <th>y_pred</th>\n",
              "    </tr>\n",
              "  </thead>\n",
              "  <tbody>\n",
              "    <tr>\n",
              "      <th>0</th>\n",
              "      <td>95.309696</td>\n",
              "      <td>90.806939</td>\n",
              "    </tr>\n",
              "    <tr>\n",
              "      <th>1</th>\n",
              "      <td>108.178886</td>\n",
              "      <td>106.601353</td>\n",
              "    </tr>\n",
              "    <tr>\n",
              "      <th>2</th>\n",
              "      <td>83.326772</td>\n",
              "      <td>88.475586</td>\n",
              "    </tr>\n",
              "    <tr>\n",
              "      <th>3</th>\n",
              "      <td>93.352866</td>\n",
              "      <td>104.415605</td>\n",
              "    </tr>\n",
              "    <tr>\n",
              "      <th>4</th>\n",
              "      <td>85.864626</td>\n",
              "      <td>74.004383</td>\n",
              "    </tr>\n",
              "  </tbody>\n",
              "</table>\n",
              "</div>\n",
              "      <button class=\"colab-df-convert\" onclick=\"convertToInteractive('df-8cdc7038-c98d-463c-abe9-1fe5c29cae6c')\"\n",
              "              title=\"Convert this dataframe to an interactive table.\"\n",
              "              style=\"display:none;\">\n",
              "        \n",
              "  <svg xmlns=\"http://www.w3.org/2000/svg\" height=\"24px\"viewBox=\"0 0 24 24\"\n",
              "       width=\"24px\">\n",
              "    <path d=\"M0 0h24v24H0V0z\" fill=\"none\"/>\n",
              "    <path d=\"M18.56 5.44l.94 2.06.94-2.06 2.06-.94-2.06-.94-.94-2.06-.94 2.06-2.06.94zm-11 1L8.5 8.5l.94-2.06 2.06-.94-2.06-.94L8.5 2.5l-.94 2.06-2.06.94zm10 10l.94 2.06.94-2.06 2.06-.94-2.06-.94-.94-2.06-.94 2.06-2.06.94z\"/><path d=\"M17.41 7.96l-1.37-1.37c-.4-.4-.92-.59-1.43-.59-.52 0-1.04.2-1.43.59L10.3 9.45l-7.72 7.72c-.78.78-.78 2.05 0 2.83L4 21.41c.39.39.9.59 1.41.59.51 0 1.02-.2 1.41-.59l7.78-7.78 2.81-2.81c.8-.78.8-2.07 0-2.86zM5.41 20L4 18.59l7.72-7.72 1.47 1.35L5.41 20z\"/>\n",
              "  </svg>\n",
              "      </button>\n",
              "      \n",
              "  <style>\n",
              "    .colab-df-container {\n",
              "      display:flex;\n",
              "      flex-wrap:wrap;\n",
              "      gap: 12px;\n",
              "    }\n",
              "\n",
              "    .colab-df-convert {\n",
              "      background-color: #E8F0FE;\n",
              "      border: none;\n",
              "      border-radius: 50%;\n",
              "      cursor: pointer;\n",
              "      display: none;\n",
              "      fill: #1967D2;\n",
              "      height: 32px;\n",
              "      padding: 0 0 0 0;\n",
              "      width: 32px;\n",
              "    }\n",
              "\n",
              "    .colab-df-convert:hover {\n",
              "      background-color: #E2EBFA;\n",
              "      box-shadow: 0px 1px 2px rgba(60, 64, 67, 0.3), 0px 1px 3px 1px rgba(60, 64, 67, 0.15);\n",
              "      fill: #174EA6;\n",
              "    }\n",
              "\n",
              "    [theme=dark] .colab-df-convert {\n",
              "      background-color: #3B4455;\n",
              "      fill: #D2E3FC;\n",
              "    }\n",
              "\n",
              "    [theme=dark] .colab-df-convert:hover {\n",
              "      background-color: #434B5C;\n",
              "      box-shadow: 0px 1px 3px 1px rgba(0, 0, 0, 0.15);\n",
              "      filter: drop-shadow(0px 1px 2px rgba(0, 0, 0, 0.3));\n",
              "      fill: #FFFFFF;\n",
              "    }\n",
              "  </style>\n",
              "\n",
              "      <script>\n",
              "        const buttonEl =\n",
              "          document.querySelector('#df-8cdc7038-c98d-463c-abe9-1fe5c29cae6c button.colab-df-convert');\n",
              "        buttonEl.style.display =\n",
              "          google.colab.kernel.accessAllowed ? 'block' : 'none';\n",
              "\n",
              "        async function convertToInteractive(key) {\n",
              "          const element = document.querySelector('#df-8cdc7038-c98d-463c-abe9-1fe5c29cae6c');\n",
              "          const dataTable =\n",
              "            await google.colab.kernel.invokeFunction('convertToInteractive',\n",
              "                                                     [key], {});\n",
              "          if (!dataTable) return;\n",
              "\n",
              "          const docLinkHtml = 'Like what you see? Visit the ' +\n",
              "            '<a target=\"_blank\" href=https://colab.research.google.com/notebooks/data_table.ipynb>data table notebook</a>'\n",
              "            + ' to learn more about interactive tables.';\n",
              "          element.innerHTML = '';\n",
              "          dataTable['output_type'] = 'display_data';\n",
              "          await google.colab.output.renderOutput(dataTable, element);\n",
              "          const docLink = document.createElement('div');\n",
              "          docLink.innerHTML = docLinkHtml;\n",
              "          element.appendChild(docLink);\n",
              "        }\n",
              "      </script>\n",
              "    </div>\n",
              "  </div>\n",
              "  "
            ]
          },
          "metadata": {},
          "execution_count": 6
        }
      ]
    },
    {
      "cell_type": "code",
      "source": [
        "results['error'] = results['y_true'] - results['y_pred']\n",
        "results.head()"
      ],
      "metadata": {
        "colab": {
          "base_uri": "https://localhost:8080/",
          "height": 206
        },
        "id": "ZCuPiKW6fC9T",
        "outputId": "19e19632-6212-4ad2-c7d2-23817c16382c"
      },
      "execution_count": 7,
      "outputs": [
        {
          "output_type": "execute_result",
          "data": {
            "text/plain": [
              "       y_true      y_pred      error\n",
              "0   95.309696   90.806939   4.502757\n",
              "1  108.178886  106.601353   1.577533\n",
              "2   83.326772   88.475586  -5.148814\n",
              "3   93.352866  104.415605 -11.062739\n",
              "4   85.864626   74.004383  11.860243"
            ],
            "text/html": [
              "\n",
              "  <div id=\"df-06aab731-67e0-4767-976f-bba1f7e3a975\">\n",
              "    <div class=\"colab-df-container\">\n",
              "      <div>\n",
              "<style scoped>\n",
              "    .dataframe tbody tr th:only-of-type {\n",
              "        vertical-align: middle;\n",
              "    }\n",
              "\n",
              "    .dataframe tbody tr th {\n",
              "        vertical-align: top;\n",
              "    }\n",
              "\n",
              "    .dataframe thead th {\n",
              "        text-align: right;\n",
              "    }\n",
              "</style>\n",
              "<table border=\"1\" class=\"dataframe\">\n",
              "  <thead>\n",
              "    <tr style=\"text-align: right;\">\n",
              "      <th></th>\n",
              "      <th>y_true</th>\n",
              "      <th>y_pred</th>\n",
              "      <th>error</th>\n",
              "    </tr>\n",
              "  </thead>\n",
              "  <tbody>\n",
              "    <tr>\n",
              "      <th>0</th>\n",
              "      <td>95.309696</td>\n",
              "      <td>90.806939</td>\n",
              "      <td>4.502757</td>\n",
              "    </tr>\n",
              "    <tr>\n",
              "      <th>1</th>\n",
              "      <td>108.178886</td>\n",
              "      <td>106.601353</td>\n",
              "      <td>1.577533</td>\n",
              "    </tr>\n",
              "    <tr>\n",
              "      <th>2</th>\n",
              "      <td>83.326772</td>\n",
              "      <td>88.475586</td>\n",
              "      <td>-5.148814</td>\n",
              "    </tr>\n",
              "    <tr>\n",
              "      <th>3</th>\n",
              "      <td>93.352866</td>\n",
              "      <td>104.415605</td>\n",
              "      <td>-11.062739</td>\n",
              "    </tr>\n",
              "    <tr>\n",
              "      <th>4</th>\n",
              "      <td>85.864626</td>\n",
              "      <td>74.004383</td>\n",
              "      <td>11.860243</td>\n",
              "    </tr>\n",
              "  </tbody>\n",
              "</table>\n",
              "</div>\n",
              "      <button class=\"colab-df-convert\" onclick=\"convertToInteractive('df-06aab731-67e0-4767-976f-bba1f7e3a975')\"\n",
              "              title=\"Convert this dataframe to an interactive table.\"\n",
              "              style=\"display:none;\">\n",
              "        \n",
              "  <svg xmlns=\"http://www.w3.org/2000/svg\" height=\"24px\"viewBox=\"0 0 24 24\"\n",
              "       width=\"24px\">\n",
              "    <path d=\"M0 0h24v24H0V0z\" fill=\"none\"/>\n",
              "    <path d=\"M18.56 5.44l.94 2.06.94-2.06 2.06-.94-2.06-.94-.94-2.06-.94 2.06-2.06.94zm-11 1L8.5 8.5l.94-2.06 2.06-.94-2.06-.94L8.5 2.5l-.94 2.06-2.06.94zm10 10l.94 2.06.94-2.06 2.06-.94-2.06-.94-.94-2.06-.94 2.06-2.06.94z\"/><path d=\"M17.41 7.96l-1.37-1.37c-.4-.4-.92-.59-1.43-.59-.52 0-1.04.2-1.43.59L10.3 9.45l-7.72 7.72c-.78.78-.78 2.05 0 2.83L4 21.41c.39.39.9.59 1.41.59.51 0 1.02-.2 1.41-.59l7.78-7.78 2.81-2.81c.8-.78.8-2.07 0-2.86zM5.41 20L4 18.59l7.72-7.72 1.47 1.35L5.41 20z\"/>\n",
              "  </svg>\n",
              "      </button>\n",
              "      \n",
              "  <style>\n",
              "    .colab-df-container {\n",
              "      display:flex;\n",
              "      flex-wrap:wrap;\n",
              "      gap: 12px;\n",
              "    }\n",
              "\n",
              "    .colab-df-convert {\n",
              "      background-color: #E8F0FE;\n",
              "      border: none;\n",
              "      border-radius: 50%;\n",
              "      cursor: pointer;\n",
              "      display: none;\n",
              "      fill: #1967D2;\n",
              "      height: 32px;\n",
              "      padding: 0 0 0 0;\n",
              "      width: 32px;\n",
              "    }\n",
              "\n",
              "    .colab-df-convert:hover {\n",
              "      background-color: #E2EBFA;\n",
              "      box-shadow: 0px 1px 2px rgba(60, 64, 67, 0.3), 0px 1px 3px 1px rgba(60, 64, 67, 0.15);\n",
              "      fill: #174EA6;\n",
              "    }\n",
              "\n",
              "    [theme=dark] .colab-df-convert {\n",
              "      background-color: #3B4455;\n",
              "      fill: #D2E3FC;\n",
              "    }\n",
              "\n",
              "    [theme=dark] .colab-df-convert:hover {\n",
              "      background-color: #434B5C;\n",
              "      box-shadow: 0px 1px 3px 1px rgba(0, 0, 0, 0.15);\n",
              "      filter: drop-shadow(0px 1px 2px rgba(0, 0, 0, 0.3));\n",
              "      fill: #FFFFFF;\n",
              "    }\n",
              "  </style>\n",
              "\n",
              "      <script>\n",
              "        const buttonEl =\n",
              "          document.querySelector('#df-06aab731-67e0-4767-976f-bba1f7e3a975 button.colab-df-convert');\n",
              "        buttonEl.style.display =\n",
              "          google.colab.kernel.accessAllowed ? 'block' : 'none';\n",
              "\n",
              "        async function convertToInteractive(key) {\n",
              "          const element = document.querySelector('#df-06aab731-67e0-4767-976f-bba1f7e3a975');\n",
              "          const dataTable =\n",
              "            await google.colab.kernel.invokeFunction('convertToInteractive',\n",
              "                                                     [key], {});\n",
              "          if (!dataTable) return;\n",
              "\n",
              "          const docLinkHtml = 'Like what you see? Visit the ' +\n",
              "            '<a target=\"_blank\" href=https://colab.research.google.com/notebooks/data_table.ipynb>data table notebook</a>'\n",
              "            + ' to learn more about interactive tables.';\n",
              "          element.innerHTML = '';\n",
              "          dataTable['output_type'] = 'display_data';\n",
              "          await google.colab.output.renderOutput(dataTable, element);\n",
              "          const docLink = document.createElement('div');\n",
              "          docLink.innerHTML = docLinkHtml;\n",
              "          element.appendChild(docLink);\n",
              "        }\n",
              "      </script>\n",
              "    </div>\n",
              "  </div>\n",
              "  "
            ]
          },
          "metadata": {},
          "execution_count": 7
        }
      ]
    },
    {
      "cell_type": "code",
      "source": [
        "def plot_regression_results(y_true, y_pred): \n",
        "    results = pd.DataFrame({'y_true': y_true, 'y_pred': y_pred})\n",
        "    min = results[['y_true', 'y_pred']].min().min()\n",
        "    max = results[['y_true', 'y_pred']].max().max()\n",
        "\n",
        "    fig = go.Figure(data=[go.Scatter(x=results['y_true'], y=results['y_pred'], mode='markers'),\n",
        "                    go.Scatter(x=[min, max], y=[min, max])],\n",
        "                    layout=go.Layout(showlegend=False, width=800, height=500,\n",
        "                                     xaxis_title='y_true', \n",
        "                                     yaxis_title='y_pred',\n",
        "                                     title='Regression results'))\n",
        "    fig.show()\n",
        "plot_regression_results(y_true, y_pred)"
      ],
      "metadata": {
        "colab": {
          "base_uri": "https://localhost:8080/",
          "height": 517
        },
        "id": "hADftEoofqHG",
        "outputId": "f5ef025a-4d26-42e1-868c-4d2c4828892d"
      },
      "execution_count": 8,
      "outputs": [
        {
          "output_type": "display_data",
          "data": {
            "text/html": [
              "<html>\n",
              "<head><meta charset=\"utf-8\" /></head>\n",
              "<body>\n",
              "    <div>            <script src=\"https://cdnjs.cloudflare.com/ajax/libs/mathjax/2.7.5/MathJax.js?config=TeX-AMS-MML_SVG\"></script><script type=\"text/javascript\">if (window.MathJax) {MathJax.Hub.Config({SVG: {font: \"STIX-Web\"}});}</script>                <script type=\"text/javascript\">window.PlotlyConfig = {MathJaxConfig: 'local'};</script>\n",
              "        <script src=\"https://cdn.plot.ly/plotly-2.8.3.min.js\"></script>                <div id=\"f0dd7bf5-cf44-4afa-b1a8-823ae034ea20\" class=\"plotly-graph-div\" style=\"height:500px; width:800px;\"></div>            <script type=\"text/javascript\">                                    window.PLOTLYENV=window.PLOTLYENV || {};                                    if (document.getElementById(\"f0dd7bf5-cf44-4afa-b1a8-823ae034ea20\")) {                    Plotly.newPlot(                        \"f0dd7bf5-cf44-4afa-b1a8-823ae034ea20\",                        [{\"mode\":\"markers\",\"x\":[95.3096956664341,108.17888622792618,83.32677241445307,93.35286587090086,85.86462576853424,121.86357438989575,83.49229981867452,106.41372247702297,141.55852119590617,86.93294471187396,106.41476417546878,105.36053185409179,86.76741973115718,120.27874683433198,84.93610026870567,123.93375879073207,64.99949286155099,88.62409716250566,97.9403918567247,95.36896385059627,93.34075923307749,82.98328115326217,75.68168732503419,131.62618559374397,116.37828936058953,86.13154151474839,78.12217620825925,89.72504221417407,133.11146804581227,114.93760013637235,106.04169861806409,74.12832358135901,92.81891871177655,100.11211799578435,92.44240157694044,102.43591999248387,74.88577942609388,115.55535797451111,128.47437401721638,121.0371804175602,98.0609505030602,99.78556683253453,137.03960695155416,95.95705451577828,108.53678454962873,76.3893977548723,102.99960293138547,96.40413844110506,95.11553615624253,94.15424202817975],\"y\":[90.80693888941884,106.60135324181607,88.47558614567599,104.41560477266148,74.00438315684748,134.75638380168033,80.38462494257574,105.91249647523627,146.5569424141289,85.22633245414923,119.36424879300394,111.20320708147815,82.52714559184811,110.3160379582665,94.19916681161794,120.16574515901492,63.12071858502623,89.06469254069653,100.81090185678427,84.22778708865796,76.16497513312751,81.81717585615594,84.89556979075041,144.2278799536606,135.58825099184756,96.4047305292737,68.97668384001348,97.3253065408408,143.05127408594691,109.91407512077825,107.02958804313427,72.07212300219645,84.01147918756048,102.3657088762711,91.2828195651516,97.66832851880247,67.77147219763238,110.67293987700529,119.76073600700725,115.69608911649522,92.48155274489025,95.42189004754503,134.10230823923752,102.87029440428483,121.27529816237008,80.75988340646097,101.83257345159936,100.97898359282173,98.75197534242311,84.49396284134313],\"type\":\"scatter\"},{\"x\":[63.12071858502623,146.5569424141289],\"y\":[63.12071858502623,146.5569424141289],\"type\":\"scatter\"}],                        {\"height\":500,\"showlegend\":false,\"title\":{\"text\":\"Regression results\"},\"width\":800,\"xaxis\":{\"title\":{\"text\":\"y_true\"}},\"yaxis\":{\"title\":{\"text\":\"y_pred\"}},\"template\":{\"data\":{\"bar\":[{\"error_x\":{\"color\":\"#2a3f5f\"},\"error_y\":{\"color\":\"#2a3f5f\"},\"marker\":{\"line\":{\"color\":\"#E5ECF6\",\"width\":0.5},\"pattern\":{\"fillmode\":\"overlay\",\"size\":10,\"solidity\":0.2}},\"type\":\"bar\"}],\"barpolar\":[{\"marker\":{\"line\":{\"color\":\"#E5ECF6\",\"width\":0.5},\"pattern\":{\"fillmode\":\"overlay\",\"size\":10,\"solidity\":0.2}},\"type\":\"barpolar\"}],\"carpet\":[{\"aaxis\":{\"endlinecolor\":\"#2a3f5f\",\"gridcolor\":\"white\",\"linecolor\":\"white\",\"minorgridcolor\":\"white\",\"startlinecolor\":\"#2a3f5f\"},\"baxis\":{\"endlinecolor\":\"#2a3f5f\",\"gridcolor\":\"white\",\"linecolor\":\"white\",\"minorgridcolor\":\"white\",\"startlinecolor\":\"#2a3f5f\"},\"type\":\"carpet\"}],\"choropleth\":[{\"colorbar\":{\"outlinewidth\":0,\"ticks\":\"\"},\"type\":\"choropleth\"}],\"contour\":[{\"colorbar\":{\"outlinewidth\":0,\"ticks\":\"\"},\"colorscale\":[[0.0,\"#0d0887\"],[0.1111111111111111,\"#46039f\"],[0.2222222222222222,\"#7201a8\"],[0.3333333333333333,\"#9c179e\"],[0.4444444444444444,\"#bd3786\"],[0.5555555555555556,\"#d8576b\"],[0.6666666666666666,\"#ed7953\"],[0.7777777777777778,\"#fb9f3a\"],[0.8888888888888888,\"#fdca26\"],[1.0,\"#f0f921\"]],\"type\":\"contour\"}],\"contourcarpet\":[{\"colorbar\":{\"outlinewidth\":0,\"ticks\":\"\"},\"type\":\"contourcarpet\"}],\"heatmap\":[{\"colorbar\":{\"outlinewidth\":0,\"ticks\":\"\"},\"colorscale\":[[0.0,\"#0d0887\"],[0.1111111111111111,\"#46039f\"],[0.2222222222222222,\"#7201a8\"],[0.3333333333333333,\"#9c179e\"],[0.4444444444444444,\"#bd3786\"],[0.5555555555555556,\"#d8576b\"],[0.6666666666666666,\"#ed7953\"],[0.7777777777777778,\"#fb9f3a\"],[0.8888888888888888,\"#fdca26\"],[1.0,\"#f0f921\"]],\"type\":\"heatmap\"}],\"heatmapgl\":[{\"colorbar\":{\"outlinewidth\":0,\"ticks\":\"\"},\"colorscale\":[[0.0,\"#0d0887\"],[0.1111111111111111,\"#46039f\"],[0.2222222222222222,\"#7201a8\"],[0.3333333333333333,\"#9c179e\"],[0.4444444444444444,\"#bd3786\"],[0.5555555555555556,\"#d8576b\"],[0.6666666666666666,\"#ed7953\"],[0.7777777777777778,\"#fb9f3a\"],[0.8888888888888888,\"#fdca26\"],[1.0,\"#f0f921\"]],\"type\":\"heatmapgl\"}],\"histogram\":[{\"marker\":{\"pattern\":{\"fillmode\":\"overlay\",\"size\":10,\"solidity\":0.2}},\"type\":\"histogram\"}],\"histogram2d\":[{\"colorbar\":{\"outlinewidth\":0,\"ticks\":\"\"},\"colorscale\":[[0.0,\"#0d0887\"],[0.1111111111111111,\"#46039f\"],[0.2222222222222222,\"#7201a8\"],[0.3333333333333333,\"#9c179e\"],[0.4444444444444444,\"#bd3786\"],[0.5555555555555556,\"#d8576b\"],[0.6666666666666666,\"#ed7953\"],[0.7777777777777778,\"#fb9f3a\"],[0.8888888888888888,\"#fdca26\"],[1.0,\"#f0f921\"]],\"type\":\"histogram2d\"}],\"histogram2dcontour\":[{\"colorbar\":{\"outlinewidth\":0,\"ticks\":\"\"},\"colorscale\":[[0.0,\"#0d0887\"],[0.1111111111111111,\"#46039f\"],[0.2222222222222222,\"#7201a8\"],[0.3333333333333333,\"#9c179e\"],[0.4444444444444444,\"#bd3786\"],[0.5555555555555556,\"#d8576b\"],[0.6666666666666666,\"#ed7953\"],[0.7777777777777778,\"#fb9f3a\"],[0.8888888888888888,\"#fdca26\"],[1.0,\"#f0f921\"]],\"type\":\"histogram2dcontour\"}],\"mesh3d\":[{\"colorbar\":{\"outlinewidth\":0,\"ticks\":\"\"},\"type\":\"mesh3d\"}],\"parcoords\":[{\"line\":{\"colorbar\":{\"outlinewidth\":0,\"ticks\":\"\"}},\"type\":\"parcoords\"}],\"pie\":[{\"automargin\":true,\"type\":\"pie\"}],\"scatter\":[{\"marker\":{\"colorbar\":{\"outlinewidth\":0,\"ticks\":\"\"}},\"type\":\"scatter\"}],\"scatter3d\":[{\"line\":{\"colorbar\":{\"outlinewidth\":0,\"ticks\":\"\"}},\"marker\":{\"colorbar\":{\"outlinewidth\":0,\"ticks\":\"\"}},\"type\":\"scatter3d\"}],\"scattercarpet\":[{\"marker\":{\"colorbar\":{\"outlinewidth\":0,\"ticks\":\"\"}},\"type\":\"scattercarpet\"}],\"scattergeo\":[{\"marker\":{\"colorbar\":{\"outlinewidth\":0,\"ticks\":\"\"}},\"type\":\"scattergeo\"}],\"scattergl\":[{\"marker\":{\"colorbar\":{\"outlinewidth\":0,\"ticks\":\"\"}},\"type\":\"scattergl\"}],\"scattermapbox\":[{\"marker\":{\"colorbar\":{\"outlinewidth\":0,\"ticks\":\"\"}},\"type\":\"scattermapbox\"}],\"scatterpolar\":[{\"marker\":{\"colorbar\":{\"outlinewidth\":0,\"ticks\":\"\"}},\"type\":\"scatterpolar\"}],\"scatterpolargl\":[{\"marker\":{\"colorbar\":{\"outlinewidth\":0,\"ticks\":\"\"}},\"type\":\"scatterpolargl\"}],\"scatterternary\":[{\"marker\":{\"colorbar\":{\"outlinewidth\":0,\"ticks\":\"\"}},\"type\":\"scatterternary\"}],\"surface\":[{\"colorbar\":{\"outlinewidth\":0,\"ticks\":\"\"},\"colorscale\":[[0.0,\"#0d0887\"],[0.1111111111111111,\"#46039f\"],[0.2222222222222222,\"#7201a8\"],[0.3333333333333333,\"#9c179e\"],[0.4444444444444444,\"#bd3786\"],[0.5555555555555556,\"#d8576b\"],[0.6666666666666666,\"#ed7953\"],[0.7777777777777778,\"#fb9f3a\"],[0.8888888888888888,\"#fdca26\"],[1.0,\"#f0f921\"]],\"type\":\"surface\"}],\"table\":[{\"cells\":{\"fill\":{\"color\":\"#EBF0F8\"},\"line\":{\"color\":\"white\"}},\"header\":{\"fill\":{\"color\":\"#C8D4E3\"},\"line\":{\"color\":\"white\"}},\"type\":\"table\"}]},\"layout\":{\"annotationdefaults\":{\"arrowcolor\":\"#2a3f5f\",\"arrowhead\":0,\"arrowwidth\":1},\"autotypenumbers\":\"strict\",\"coloraxis\":{\"colorbar\":{\"outlinewidth\":0,\"ticks\":\"\"}},\"colorscale\":{\"diverging\":[[0,\"#8e0152\"],[0.1,\"#c51b7d\"],[0.2,\"#de77ae\"],[0.3,\"#f1b6da\"],[0.4,\"#fde0ef\"],[0.5,\"#f7f7f7\"],[0.6,\"#e6f5d0\"],[0.7,\"#b8e186\"],[0.8,\"#7fbc41\"],[0.9,\"#4d9221\"],[1,\"#276419\"]],\"sequential\":[[0.0,\"#0d0887\"],[0.1111111111111111,\"#46039f\"],[0.2222222222222222,\"#7201a8\"],[0.3333333333333333,\"#9c179e\"],[0.4444444444444444,\"#bd3786\"],[0.5555555555555556,\"#d8576b\"],[0.6666666666666666,\"#ed7953\"],[0.7777777777777778,\"#fb9f3a\"],[0.8888888888888888,\"#fdca26\"],[1.0,\"#f0f921\"]],\"sequentialminus\":[[0.0,\"#0d0887\"],[0.1111111111111111,\"#46039f\"],[0.2222222222222222,\"#7201a8\"],[0.3333333333333333,\"#9c179e\"],[0.4444444444444444,\"#bd3786\"],[0.5555555555555556,\"#d8576b\"],[0.6666666666666666,\"#ed7953\"],[0.7777777777777778,\"#fb9f3a\"],[0.8888888888888888,\"#fdca26\"],[1.0,\"#f0f921\"]]},\"colorway\":[\"#636efa\",\"#EF553B\",\"#00cc96\",\"#ab63fa\",\"#FFA15A\",\"#19d3f3\",\"#FF6692\",\"#B6E880\",\"#FF97FF\",\"#FECB52\"],\"font\":{\"color\":\"#2a3f5f\"},\"geo\":{\"bgcolor\":\"white\",\"lakecolor\":\"white\",\"landcolor\":\"#E5ECF6\",\"showlakes\":true,\"showland\":true,\"subunitcolor\":\"white\"},\"hoverlabel\":{\"align\":\"left\"},\"hovermode\":\"closest\",\"mapbox\":{\"style\":\"light\"},\"paper_bgcolor\":\"white\",\"plot_bgcolor\":\"#E5ECF6\",\"polar\":{\"angularaxis\":{\"gridcolor\":\"white\",\"linecolor\":\"white\",\"ticks\":\"\"},\"bgcolor\":\"#E5ECF6\",\"radialaxis\":{\"gridcolor\":\"white\",\"linecolor\":\"white\",\"ticks\":\"\"}},\"scene\":{\"xaxis\":{\"backgroundcolor\":\"#E5ECF6\",\"gridcolor\":\"white\",\"gridwidth\":2,\"linecolor\":\"white\",\"showbackground\":true,\"ticks\":\"\",\"zerolinecolor\":\"white\"},\"yaxis\":{\"backgroundcolor\":\"#E5ECF6\",\"gridcolor\":\"white\",\"gridwidth\":2,\"linecolor\":\"white\",\"showbackground\":true,\"ticks\":\"\",\"zerolinecolor\":\"white\"},\"zaxis\":{\"backgroundcolor\":\"#E5ECF6\",\"gridcolor\":\"white\",\"gridwidth\":2,\"linecolor\":\"white\",\"showbackground\":true,\"ticks\":\"\",\"zerolinecolor\":\"white\"}},\"shapedefaults\":{\"line\":{\"color\":\"#2a3f5f\"}},\"ternary\":{\"aaxis\":{\"gridcolor\":\"white\",\"linecolor\":\"white\",\"ticks\":\"\"},\"baxis\":{\"gridcolor\":\"white\",\"linecolor\":\"white\",\"ticks\":\"\"},\"bgcolor\":\"#E5ECF6\",\"caxis\":{\"gridcolor\":\"white\",\"linecolor\":\"white\",\"ticks\":\"\"}},\"title\":{\"x\":0.05},\"xaxis\":{\"automargin\":true,\"gridcolor\":\"white\",\"linecolor\":\"white\",\"ticks\":\"\",\"title\":{\"standoff\":15},\"zerolinecolor\":\"white\",\"zerolinewidth\":2},\"yaxis\":{\"automargin\":true,\"gridcolor\":\"white\",\"linecolor\":\"white\",\"ticks\":\"\",\"title\":{\"standoff\":15},\"zerolinecolor\":\"white\",\"zerolinewidth\":2}}}},                        {\"responsive\": true}                    ).then(function(){\n",
              "                            \n",
              "var gd = document.getElementById('f0dd7bf5-cf44-4afa-b1a8-823ae034ea20');\n",
              "var x = new MutationObserver(function (mutations, observer) {{\n",
              "        var display = window.getComputedStyle(gd).display;\n",
              "        if (!display || display === 'none') {{\n",
              "            console.log([gd, 'removed!']);\n",
              "            Plotly.purge(gd);\n",
              "            observer.disconnect();\n",
              "        }}\n",
              "}});\n",
              "\n",
              "// Listen for the removal of the full notebook cells\n",
              "var notebookContainer = gd.closest('#notebook-container');\n",
              "if (notebookContainer) {{\n",
              "    x.observe(notebookContainer, {childList: true});\n",
              "}}\n",
              "\n",
              "// Listen for the clearing of the current output cell\n",
              "var outputEl = gd.closest('.output');\n",
              "if (outputEl) {{\n",
              "    x.observe(outputEl, {childList: true});\n",
              "}}\n",
              "\n",
              "                        })                };                            </script>        </div>\n",
              "</body>\n",
              "</html>"
            ]
          },
          "metadata": {}
        }
      ]
    },
    {
      "cell_type": "code",
      "source": [
        "y_true = 100 + 20 * np.random.randn(1000)\n",
        "y_pred = y_true + 10 * np.random.randn(1000)\n",
        "results = pd.DataFrame({'y_true': y_true, 'y_pred': y_pred})\n",
        "results['error'] = results['y_true'] - results['y_pred']\n",
        "\n",
        "px.histogram(results, x='error', nbins=50, width=800)"
      ],
      "metadata": {
        "colab": {
          "base_uri": "https://localhost:8080/",
          "height": 542
        },
        "id": "pb3d9quqfrcY",
        "outputId": "2ac257b8-b54c-4ed3-9b3d-38a12f6cc9e5"
      },
      "execution_count": 9,
      "outputs": [
        {
          "output_type": "display_data",
          "data": {
            "text/html": [
              "<html>\n",
              "<head><meta charset=\"utf-8\" /></head>\n",
              "<body>\n",
              "    <div>            <script src=\"https://cdnjs.cloudflare.com/ajax/libs/mathjax/2.7.5/MathJax.js?config=TeX-AMS-MML_SVG\"></script><script type=\"text/javascript\">if (window.MathJax) {MathJax.Hub.Config({SVG: {font: \"STIX-Web\"}});}</script>                <script type=\"text/javascript\">window.PlotlyConfig = {MathJaxConfig: 'local'};</script>\n",
              "        <script src=\"https://cdn.plot.ly/plotly-2.8.3.min.js\"></script>                <div id=\"65a60a62-c631-40cd-9276-d25684b39b65\" class=\"plotly-graph-div\" style=\"height:525px; width:800px;\"></div>            <script type=\"text/javascript\">                                    window.PLOTLYENV=window.PLOTLYENV || {};                                    if (document.getElementById(\"65a60a62-c631-40cd-9276-d25684b39b65\")) {                    Plotly.newPlot(                        \"65a60a62-c631-40cd-9276-d25684b39b65\",                        [{\"alignmentgroup\":\"True\",\"bingroup\":\"x\",\"hovertemplate\":\"error=%{x}<br>count=%{y}<extra></extra>\",\"legendgroup\":\"\",\"marker\":{\"color\":\"#636efa\",\"pattern\":{\"shape\":\"\"}},\"name\":\"\",\"nbinsx\":50,\"offsetgroup\":\"\",\"orientation\":\"v\",\"showlegend\":false,\"x\":[7.887907337883419,-10.134030976409576,-1.6893843249373077,-2.0336875894097943,11.32186381260857,11.902300040604281,-6.066020476119647,0.11029098042860142,5.2218642795075425,-8.865934411973697,-17.861840722988205,-8.743375180296084,1.536690366324578,-14.680232933713967,12.049673626412442,-12.210107465298819,-3.5716921147280516,-6.094545605726978,23.817186632702274,-4.653891052764365,1.3953167614447466,4.2605894561366995,-3.5689238405837926,-3.254409749983111,21.979817163662766,-8.66310070151222,-13.18738849133561,16.498106351335608,-3.9974346963209655,-11.846378372894044,2.997782184911742,-31.018496761008237,-13.214112034093944,-12.378742588381272,0.7507265546681481,4.35360543546723,6.904112820914236,-15.191213978948966,19.907330987821652,12.665164779749318,1.481063574802718,3.047516363438973,1.1821277677280762,-1.9084375020780158,-9.061632416834044,8.956024047294576,-0.016063541834682837,7.275265250156295,-11.22609825016589,-0.10118877227591838,-5.227521326994662,4.880200997559342,-0.650936039535722,-2.221026745528704,-14.327597291561545,-11.14018000277558,-8.814487311044118,-8.559973850728397,-2.85708217177266,-4.750424312084775,9.478841433381277,11.60455939750696,-0.5633623743078289,4.444203143133535,6.881916300404498,10.022680436748473,2.1283381227783593,-8.291673405885646,-3.333832012212568,-1.7753481624034748,9.465766123433866,-3.8599708097626717,8.294836800217624,10.921292307753475,-7.4787167759689055,-20.041302186936917,12.870371755012599,-16.15324314723199,-9.951157142166167,10.111794757815503,1.5824180898971463,2.7706534933535494,-9.03122038420318,7.780173122810112,18.433312854521688,9.910753850263447,12.729408736493426,-6.981765540596356,3.729991327994526,-24.933997578257532,-9.137301290809049,-0.6234371624851036,8.989267620757332,-14.819067675957626,19.859778180174402,-2.144048433068349,0.1593612153189241,-5.586628082743189,1.4411920002320997,7.957040115060536,9.245670032232695,-3.540809206875096,-25.081210401340485,-6.71524213972404,18.50329958904407,-4.543598237266423,-8.816953069804754,-3.690586937019461,4.874192170203983,3.2455831121331613,-4.476425816024786,13.058540269507759,-11.549122553406448,-2.530537779022964,-7.133438819716659,8.603590310402453,-8.832548862010015,0.47706676823344196,-1.8815197731367306,1.2931257347224658,-5.054295379823856,7.525728908972425,-24.92121786634391,-3.4616639192314693,6.09117823015967,6.774356859929128,-5.884386384764355,14.470912713823864,2.3056779273219803,-18.585395157869456,16.50417062616394,-3.804586879511163,9.584333668180946,9.210779067871428,16.917903703403354,-4.900672818786148,-10.252368174888645,-7.989489452077237,8.99596023611791,3.5997654518153865,1.0916224060222532,-3.103218818932575,-3.5839550717413147,7.2942239088628185,-14.498520958080363,-2.204983088789305,-2.8035860509682493,0.18527288493970673,9.36410785470217,-8.009050476940331,-19.14357190810604,1.2431798369158855,-14.050619546138876,2.0871140427617547,4.611054768570618,1.7281929059164298,-21.747397921631688,0.9236676252731684,8.775836105893575,-8.290089843482392,-10.192064674279067,4.419702402981358,-6.707427949342488,2.177096750898116,12.169915610841628,0.398491784781811,-17.368225261898246,-3.902849795597419,0.8858725316363092,-9.641028280546422,-15.742207236247552,-6.278255727086574,2.774597456936121,2.7314395389963835,7.647189728418439,-2.830287437712883,4.034782275853814,-8.645864164821916,6.781975233369309,25.252991067379163,-4.250586462609618,-5.029172583061722,2.550384973431548,5.3645623842568995,-33.77300944375206,6.27109885812915,-0.11219620188578006,-2.6318754131674496,-0.5486214397662081,1.5903317839479598,-0.08381336343852297,6.3482602611370424,-4.783409435752603,5.7914153644783966,8.935510168771089,17.609172128077944,8.834524804150192,-1.0624453838317294,20.025321316831565,-3.8814735336442823,15.126052499739288,-5.900109766487915,19.563722270761573,6.6652753131387215,-16.841084716520044,4.95988147069491,14.093931859689803,23.11903283511245,5.298413065886194,6.724359225800697,8.332807547729615,-3.6770084906811604,-12.64711631837487,2.50696578174707,11.347063301470982,12.634194653025077,3.5072828349181577,6.501368973408518,0.8268516352081718,-13.349985008299583,11.003347951996133,-2.811331092183522,-24.311851803115474,0.9098842267476499,-4.502780618732999,-3.023801556365086,6.8099731227639495,-7.431059967977575,-1.9193477272447694,-11.752100334522666,2.1743728653140266,-6.529709414247861,4.785887611756763,4.007157508755341,3.3994558131466306,7.718751827109202,4.545731563233474,-2.4823112035944632,-10.207772527971755,8.88139083606788,2.3672171269041087,8.093424961738606,11.685774656489542,-17.578969828797256,-7.923230672989227,-1.781225905092242,2.45638153120035,18.326659513517058,-4.249304763992157,10.191410265705983,20.55999902558267,8.402112532750479,5.636986599716522,13.657437861771804,3.2643320934118094,5.623699716518573,20.583802352749302,-3.6254190820542362,12.668670131562834,10.409399952892926,-1.8080552578760347,-8.990838894032663,-11.829570920998513,14.708192057046091,7.207849981729339,0.8339924805506342,2.2917766684105487,-9.793343755212732,10.027745713746839,-4.941587773790175,-14.028438930909743,2.9169251323008325,5.627596641205301,18.86449737243808,-11.9553470707463,-13.414120436499857,0.2841683879377115,6.50307683847025,4.860311816940424,4.218500329539182,5.228755715985429,0.2726490717507488,8.559459834429603,10.796313632573515,0.05016083931519688,20.224562926040733,-14.509382805165401,-13.29547862419318,-12.903245542054378,5.239314444341417,1.0149869824419966,5.355847520729881,15.900597908496096,-1.9022794580213542,-12.491348040343055,-17.23936790886522,-1.330942055852823,11.24588119376078,5.554533723053652,2.0548260536892258,2.9562255600472156,-5.333640366283063,1.51151978729402,-13.705073495216737,-33.10132726161332,-7.960084181618782,10.22322314918219,-11.149717306290839,-7.380730474992163,-8.901867460155657,4.308801821383696,-5.993230340101505,4.137604470227785,2.192824429704274,-8.266721278752016,6.116526420804092,8.022759492440173,1.3829876634943759,-0.12659499961898746,-14.56914906926562,-8.628823780193997,14.870076165266838,-13.826855671115794,-2.7579764988999216,-3.5786148013524155,8.415960826740395,14.563243426381831,2.8759677004321276,-21.21841196384551,3.657309519533385,11.792455566304895,-2.0158291537161404,2.517233676660098,-18.795643549283554,-6.010507375947171,-14.226757998327514,11.790650713607533,-2.624621534002344,3.535808138350262,2.8592701269385117,1.3364358075107887,7.390315917904957,7.964360455367185,6.597934720252809,-8.828261230922777,-10.31080483349524,9.079335567209696,9.590912529224752,-1.3020367167706297,-3.76664932143791,-10.755768084703831,-3.37466625347011,-2.9361379786688957,7.720038680584054,-14.89835180209181,-0.7103940817097651,-0.20855724460753322,-2.839988115250094,4.319872675115889,-0.10231165742226267,9.76172520447264,-16.70817154235199,-6.99493622442418,-0.4230820481593298,5.722772002965172,-1.5556254568864318,-2.8719907018075617,-16.17043080251308,1.7027448031564063,-15.763262225963558,-16.48876293916105,2.4506425136371774,3.6289222476397356,11.329454944432385,-3.1616602759984715,-15.607448228963207,-14.08555735477323,4.408335115761929,2.0388932255153804,14.593106129382676,11.165878609643897,2.603950453270997,12.80563938289518,-3.8917069662269625,-13.832618931363129,1.1206097448154537,-7.071304320203495,-4.039493376485609,11.619381384689731,4.922254097001854,-0.9927780218536242,2.625997614118873,17.806136101124025,1.1063181443479237,-13.474170166166175,16.755153274414077,2.5404540868360357,-5.436336366048451,-9.618188408764837,9.400614120673566,0.0957750518882392,-1.6872576978281302,-8.649057519662762,1.1597362608557233,21.779213209822387,-3.895200403938034,31.544296533571128,-11.917700687442789,-2.2410937051438538,7.612397817670271,-10.332882590709914,12.68337662833764,-4.82410694629219,-2.392711081976529,-1.517469408846381,-7.584850670278271,-9.526325645913076,2.4203073913592377,-20.211194291980263,-0.94068059377895,3.29107299576026,2.9070749603309025,4.88393892824017,8.959448450934723,13.553449471619402,-4.683151904097471,-18.28813978720754,4.090961158018786,1.4613093687775915,6.167790223531284,-7.586917828239308,-6.8439006070278765,-14.073619316754048,-8.841831848590942,0.24118236281293548,-7.492566874378767,11.67524148260172,-17.401139258092996,9.226156400091213,-12.867979698116287,7.3161789872846725,2.190401589861054,9.895873640377772,-8.002843924000729,29.581662625640348,5.2190671416203145,-7.85012172198023,11.705667303740867,-6.335902631413404,12.408965936154061,-18.1081542908764,2.0000604620390163,2.5072255206847984,-2.4662207939358893,0.5328830904149129,-10.645086413840502,18.91512250258083,-6.979504805711343,10.40410833038878,-1.6862585469512794,-1.2828302127888094,6.188946750959218,-6.61959422183611,-7.392547679648558,-0.9828746683690923,-5.38643561724561,-20.40586028772752,17.057409121184946,-10.71752818413077,13.358132970158763,17.899642543610184,0.0334846253535801,4.245955775692579,3.5630867978227485,-3.947615878706202,11.923290464971615,3.395081261431315,-13.772764001474329,-7.278315572943242,-7.1158185963367515,-12.85960508970723,-6.329041318992466,-11.2340528041495,-4.760873828407554,2.5145104774350955,-5.494983923529816,9.055970834837026,-17.56826892971671,-20.40729568882402,7.836166676733043,-1.9653877871812853,8.27846356105239,-19.250089415995475,4.947679724006221,10.370093538012256,-5.273818322779249,11.396988682839165,7.80386113237013,13.598684179640316,-7.247748274756162,2.07550784753667,7.911949415952478,-0.350057444024344,-14.802792728461611,-2.820825815894949,-3.9645549069751382,20.234261808202916,-0.6459018913488137,-1.9933145194108164,7.4084999137761685,-13.222912467081429,-3.9584922440683954,-2.003230829614594,-4.806237235410094,9.652341380875214,-8.664768249999412,-0.2278874738304637,-3.5353184856516435,0.8867952656520828,-15.75830350781915,-7.0190531904358835,9.91947746644422,11.641080637218039,-12.906929805595524,7.131348798603852,-17.563203732372898,-3.5144663043463993,-6.184579207253137,17.85392773203384,-14.89433083004755,-1.6167831220349385,-18.78874049340189,8.295681136087595,13.661174815092025,-7.2663290302430426,16.24355939611395,-6.22924955253373,0.7285031203073657,-6.136844500829383,3.010615544923297,4.779577097631787,10.972027745756648,0.18563586531463727,11.062097845219569,9.581505137125887,1.1977504301155761,-3.5222337062671727,5.978121729538145,-25.52716752808027,1.1686623182385603,10.23580739973503,1.1035955719312511,7.151643995090595,3.8546182734761345,-12.063755210032511,-10.058422780081173,-3.099685522780213,-1.782381798203204,5.745296721728593,-14.966794525448307,4.073310424860054,10.188172491832631,-9.549528316139416,-13.693229105483269,-16.024766355208968,1.2180410304130191,0.473288493295982,-5.5201597114430285,7.221177752703085,-4.0310555633913765,-5.328683229390329,6.744417425278371,-9.258761208756155,-13.253935079024387,-15.874616770598664,6.85679584406914,-4.197165393845808,-8.803818176579497,15.076134962544096,-2.7388666576362652,14.184472412340284,-16.81271946391972,22.602251915132513,-5.618237395802183,3.3976770815738604,19.053424418033373,13.121549909021937,-13.696599869105455,6.50551150292911,1.0473804992562492,3.8962293911355346,11.323106198558577,-2.8044603883741104,4.563622075187709,5.598263987425057,-2.700998139131073,-16.01782107789836,-6.966123272321411,-4.610959148460637,21.68398741043997,-0.7185682366422981,10.399348788201067,4.19896058670939,-23.070539294581124,-4.336979933725246,5.707843793529122,-9.79637102709549,-10.178554277891863,8.31224744236674,1.9692278001615762,-6.006409917074109,11.681191722259143,-6.3101288775181885,4.403090246444975,3.6216235956950413,4.560273570203563,-12.627276449115655,0.8999571205331875,1.979522400284452,23.910019656183763,0.5146287409359189,0.4716592825982673,-4.106379000896311,-1.0339511149148137,-4.211521182020306,22.402888354290667,8.203377952333511,-5.848644209785917,5.572625538964317,2.640957463058058,-4.610988002276315,3.5706796934305913,4.2222258688977945,0.8898995126064335,-6.637140355618882,-11.412598454775,1.7530022584303424,7.781823092964601,5.855094341435162,-10.93982885959646,10.882560492050885,-5.110885173753644,-11.644840123615495,6.360366336468729,15.2475926269627,15.73442117924607,-18.571253016458897,6.449978350374309,-12.113796115484433,1.44627694863118,-1.0427502350713524,2.3734278059260703,9.514002877752645,-14.381260421180556,0.5517642976789432,-19.182340937200763,-15.404040689538519,-2.5842334984265705,15.09003657430435,-19.885225870434653,1.1321311120526616,-13.504358915036647,5.190543156705957,20.681690123966547,9.555120839850787,-15.38315948422786,12.112940855124549,22.322815079662455,13.055396440760859,-4.773529812251326,-10.369554472933885,5.757286115050434,13.429283492322597,-14.472815427793392,0.4727854652904071,-10.997952098212266,18.013204015927656,0.8412089390789248,-15.220782621222057,2.844567198482281,-6.097597619822466,-8.300517564757428,16.00050003267865,-6.391977487052856,7.714723235623794,-7.817882977756938,-0.7165507861774216,-9.023560305995034,-7.645211117779297,7.639652845296638,-14.21079332967777,8.640208912420746,5.414304910356279,14.992172443052553,9.119277388667712,-21.525239163211083,-5.6952803133824546,-0.2559660908513024,0.23257451639412352,10.98795911238858,9.059287701926365,7.0771985819554715,0.7240221192309235,-3.4801968862978185,-13.185027014178445,12.211200372778393,11.22613692877863,4.039751233575089,-2.0016303469958956,-6.362001695637474,4.19557561586592,5.258968477023785,-9.013204421491736,-10.943217184136685,3.9769491440682145,-2.1696851539496436,4.052436681399911,-13.761889047626937,-23.197971535081763,5.993709651493049,9.121789345952607,-7.281787985284211,-3.2977665810452237,-3.819455620678184,-1.816399175417871,-5.995413743527195,14.0397618020001,16.851324143799587,1.2819478856170008,-5.6612204885514075,-9.648022135238307,4.856716787387796,-1.1734474575938947,-5.520974304383671,-13.630398943070517,3.20725972137852,-9.881949973984177,-1.1197059889074694,9.05284077773156,-13.673422308870443,-12.219739357022036,22.851740815743383,8.04600281004727,-10.286589001501397,7.356167758377552,17.767390199833443,-0.735152097051639,9.28000076812961,-14.022986076809843,0.7736226801241202,-8.043158315629057,10.615642336452822,-18.054947931703026,11.529963283891973,24.755429389135614,-13.650114505217772,-7.616451018888284,-1.1787626699345424,12.27085511922266,9.89798979295783,-12.004722555360445,4.538961289822595,4.820043307647836,-9.986920005964464,16.97087086826305,-11.420240595302502,-3.8655710205535456,-19.311769759448765,-9.187741361604196,-6.967659324834301,4.600628436545236,-0.8318720437645339,4.676788155461551,-8.25708995923361,3.677132100953486,5.116106963834596,0.2154267820635738,11.865560776389913,-3.7050895658795326,0.7600016150801707,-3.4385534957314974,0.13143785643418937,-7.598417185189533,3.015126603918972,8.695632374489321,-21.858734910070993,12.885997943398408,7.203620575634687,12.565291296803025,-4.229991233994156,2.4139286136353633,2.954826442711962,-2.6372509836386655,-3.4967684852762773,-1.7728183005535953,-9.68167305067287,2.219440115487785,12.551995695176302,10.641290398736174,5.448444720831276,3.1685203619528863,-17.919413917091163,-6.020819246310758,-5.160236771184344,-1.8218635852798144,6.803065312229478,-11.93278607382949,17.680433882147227,-7.391851967976805,21.10633462515274,6.086780134018213,4.746954998321527,-4.294889080002719,14.228773638717385,8.526030144598877,-11.467381605522448,-2.0365360990601005,-15.115146592596432,26.36652847480359,10.2610078413462,-8.845637929722983,7.980236776910303,8.919009191470039,14.519218767006635,-1.0656945250858598,4.262061880721461,-4.206874001501177,4.55177211592445,6.2057779480584685,9.477652496911844,9.297566983448206,8.300380587641584,-11.344325757477591,23.67654311304996,-22.23599338724955,4.499490003864032,0.679017680427421,17.767395557192685,-3.1230613217920364,-5.946035158862145,0.356499965042687,-16.676557463442805,-12.240974330569614,18.411868484333482,5.836032249622548,-16.975560662207826,-2.1452477965871566,10.692448940000773,-3.6097511274305845,8.656189093409509,-0.14419035061899876,-4.089066121839068,6.632081319805394,8.071761512192438,-14.103759186207071,7.027891690321795,17.390188161334947,-12.201855717266852,13.807440392419295,9.036529361619856,8.98935735047607,10.536205380915362,-8.41010352502272,-1.655038185033888,-1.5424498368983137,0.7584582414409624,-0.2995886159534251,18.11724625937302,-0.08465837952560662,8.160443375031818,3.0569876656164325,-24.424593466013704,-1.144712322539803,19.610653498086933,-9.769394526638337,-1.9179053201520873,1.4602294732247856,-3.3470355006796524,4.355286642140413,-13.386738054435767,7.792061664243192,-7.336979892111415,2.211130430788799,-3.693009247907611,-5.6024553092594545,24.00833802866822,2.798489416911309,7.65228058896848,-17.281048083858906,8.978168485290126,10.756150968249074,13.446646301400051,-12.277993699520835,-6.243510600157379,-3.0491249565237553,-14.87425793786197,0.07864419307311721,7.20175828888695,5.884290446842115,16.63549494844466,17.225116964151496,-0.5191674413629812,-3.272966606370545,-1.8083999622593154,-8.811142136227716,-4.81685087807611,17.720019867401746,10.182394709125901,20.95655975256696,-17.303861358709582,-15.088751726855506,-1.803253246560928,-13.47898967244545,-3.4317686396820903,-8.004287040129924,10.922433080411608,-13.928075966222153,-3.762656503234723,-14.34794027828562,0.26433468194450427,3.6017581238300664,-2.8583180126018277,-6.655978340699789,2.0298817203184285,18.06257125866061,1.945239527781652,8.242557496717737,-0.609762287271252,-6.4848120020294715,-2.447044015169368,15.036037551794692,14.754104753702237,8.04265179297748,-6.206087191917263,19.773238427444852,1.3613297816393128,-0.27907216962579184,-1.7760175053591922,6.029340171736095,-1.2127184011441727,-5.429985733203452,-1.5319279892753315,5.230216799801653,1.1905105520305668,3.6073995589004113,-17.686257520333612,-15.67131456144159,-4.250393017728925,6.778157770587512,3.5932083200781904,-8.07330510691169,-8.675502087489264,0.33502601232440554,17.606298085591405,5.541325631727332,-1.2302270986526764,4.11372728532082,-2.388273662043005,3.8778104430402323,-12.650051282169642,-3.14493693050629,6.783102417949664,5.491012037598594,9.021437470531112,-9.60383778802246,5.094130435936748,1.9397998337722129,-5.230014190727594,17.391825095220582,-19.914185023275337,2.770261778677323,-4.667098052011141,7.521012419523402,20.069344633908116,-4.805451896064113,-1.8156922241406477,5.237458711555362,-9.45198575616115,-5.024014471760651,0.1382481434965399,-13.857342344202578,-4.415116624552454,5.9867150050439335,-3.57310069338007,-4.9423282346823925,-3.490794302285849,-14.658245940074053,0.2847065033438838,-8.047249256292346,-11.305859204846627,4.3038427447997805,-27.787870024889074,-17.829558220642028,-3.5830205117239373,-16.424514921631058,16.6720212296067,-11.743385433256407,-5.580709785312337,-1.203263732693216,-17.215222864684876],\"xaxis\":\"x\",\"yaxis\":\"y\",\"type\":\"histogram\"}],                        {\"template\":{\"data\":{\"bar\":[{\"error_x\":{\"color\":\"#2a3f5f\"},\"error_y\":{\"color\":\"#2a3f5f\"},\"marker\":{\"line\":{\"color\":\"#E5ECF6\",\"width\":0.5},\"pattern\":{\"fillmode\":\"overlay\",\"size\":10,\"solidity\":0.2}},\"type\":\"bar\"}],\"barpolar\":[{\"marker\":{\"line\":{\"color\":\"#E5ECF6\",\"width\":0.5},\"pattern\":{\"fillmode\":\"overlay\",\"size\":10,\"solidity\":0.2}},\"type\":\"barpolar\"}],\"carpet\":[{\"aaxis\":{\"endlinecolor\":\"#2a3f5f\",\"gridcolor\":\"white\",\"linecolor\":\"white\",\"minorgridcolor\":\"white\",\"startlinecolor\":\"#2a3f5f\"},\"baxis\":{\"endlinecolor\":\"#2a3f5f\",\"gridcolor\":\"white\",\"linecolor\":\"white\",\"minorgridcolor\":\"white\",\"startlinecolor\":\"#2a3f5f\"},\"type\":\"carpet\"}],\"choropleth\":[{\"colorbar\":{\"outlinewidth\":0,\"ticks\":\"\"},\"type\":\"choropleth\"}],\"contour\":[{\"colorbar\":{\"outlinewidth\":0,\"ticks\":\"\"},\"colorscale\":[[0.0,\"#0d0887\"],[0.1111111111111111,\"#46039f\"],[0.2222222222222222,\"#7201a8\"],[0.3333333333333333,\"#9c179e\"],[0.4444444444444444,\"#bd3786\"],[0.5555555555555556,\"#d8576b\"],[0.6666666666666666,\"#ed7953\"],[0.7777777777777778,\"#fb9f3a\"],[0.8888888888888888,\"#fdca26\"],[1.0,\"#f0f921\"]],\"type\":\"contour\"}],\"contourcarpet\":[{\"colorbar\":{\"outlinewidth\":0,\"ticks\":\"\"},\"type\":\"contourcarpet\"}],\"heatmap\":[{\"colorbar\":{\"outlinewidth\":0,\"ticks\":\"\"},\"colorscale\":[[0.0,\"#0d0887\"],[0.1111111111111111,\"#46039f\"],[0.2222222222222222,\"#7201a8\"],[0.3333333333333333,\"#9c179e\"],[0.4444444444444444,\"#bd3786\"],[0.5555555555555556,\"#d8576b\"],[0.6666666666666666,\"#ed7953\"],[0.7777777777777778,\"#fb9f3a\"],[0.8888888888888888,\"#fdca26\"],[1.0,\"#f0f921\"]],\"type\":\"heatmap\"}],\"heatmapgl\":[{\"colorbar\":{\"outlinewidth\":0,\"ticks\":\"\"},\"colorscale\":[[0.0,\"#0d0887\"],[0.1111111111111111,\"#46039f\"],[0.2222222222222222,\"#7201a8\"],[0.3333333333333333,\"#9c179e\"],[0.4444444444444444,\"#bd3786\"],[0.5555555555555556,\"#d8576b\"],[0.6666666666666666,\"#ed7953\"],[0.7777777777777778,\"#fb9f3a\"],[0.8888888888888888,\"#fdca26\"],[1.0,\"#f0f921\"]],\"type\":\"heatmapgl\"}],\"histogram\":[{\"marker\":{\"pattern\":{\"fillmode\":\"overlay\",\"size\":10,\"solidity\":0.2}},\"type\":\"histogram\"}],\"histogram2d\":[{\"colorbar\":{\"outlinewidth\":0,\"ticks\":\"\"},\"colorscale\":[[0.0,\"#0d0887\"],[0.1111111111111111,\"#46039f\"],[0.2222222222222222,\"#7201a8\"],[0.3333333333333333,\"#9c179e\"],[0.4444444444444444,\"#bd3786\"],[0.5555555555555556,\"#d8576b\"],[0.6666666666666666,\"#ed7953\"],[0.7777777777777778,\"#fb9f3a\"],[0.8888888888888888,\"#fdca26\"],[1.0,\"#f0f921\"]],\"type\":\"histogram2d\"}],\"histogram2dcontour\":[{\"colorbar\":{\"outlinewidth\":0,\"ticks\":\"\"},\"colorscale\":[[0.0,\"#0d0887\"],[0.1111111111111111,\"#46039f\"],[0.2222222222222222,\"#7201a8\"],[0.3333333333333333,\"#9c179e\"],[0.4444444444444444,\"#bd3786\"],[0.5555555555555556,\"#d8576b\"],[0.6666666666666666,\"#ed7953\"],[0.7777777777777778,\"#fb9f3a\"],[0.8888888888888888,\"#fdca26\"],[1.0,\"#f0f921\"]],\"type\":\"histogram2dcontour\"}],\"mesh3d\":[{\"colorbar\":{\"outlinewidth\":0,\"ticks\":\"\"},\"type\":\"mesh3d\"}],\"parcoords\":[{\"line\":{\"colorbar\":{\"outlinewidth\":0,\"ticks\":\"\"}},\"type\":\"parcoords\"}],\"pie\":[{\"automargin\":true,\"type\":\"pie\"}],\"scatter\":[{\"marker\":{\"colorbar\":{\"outlinewidth\":0,\"ticks\":\"\"}},\"type\":\"scatter\"}],\"scatter3d\":[{\"line\":{\"colorbar\":{\"outlinewidth\":0,\"ticks\":\"\"}},\"marker\":{\"colorbar\":{\"outlinewidth\":0,\"ticks\":\"\"}},\"type\":\"scatter3d\"}],\"scattercarpet\":[{\"marker\":{\"colorbar\":{\"outlinewidth\":0,\"ticks\":\"\"}},\"type\":\"scattercarpet\"}],\"scattergeo\":[{\"marker\":{\"colorbar\":{\"outlinewidth\":0,\"ticks\":\"\"}},\"type\":\"scattergeo\"}],\"scattergl\":[{\"marker\":{\"colorbar\":{\"outlinewidth\":0,\"ticks\":\"\"}},\"type\":\"scattergl\"}],\"scattermapbox\":[{\"marker\":{\"colorbar\":{\"outlinewidth\":0,\"ticks\":\"\"}},\"type\":\"scattermapbox\"}],\"scatterpolar\":[{\"marker\":{\"colorbar\":{\"outlinewidth\":0,\"ticks\":\"\"}},\"type\":\"scatterpolar\"}],\"scatterpolargl\":[{\"marker\":{\"colorbar\":{\"outlinewidth\":0,\"ticks\":\"\"}},\"type\":\"scatterpolargl\"}],\"scatterternary\":[{\"marker\":{\"colorbar\":{\"outlinewidth\":0,\"ticks\":\"\"}},\"type\":\"scatterternary\"}],\"surface\":[{\"colorbar\":{\"outlinewidth\":0,\"ticks\":\"\"},\"colorscale\":[[0.0,\"#0d0887\"],[0.1111111111111111,\"#46039f\"],[0.2222222222222222,\"#7201a8\"],[0.3333333333333333,\"#9c179e\"],[0.4444444444444444,\"#bd3786\"],[0.5555555555555556,\"#d8576b\"],[0.6666666666666666,\"#ed7953\"],[0.7777777777777778,\"#fb9f3a\"],[0.8888888888888888,\"#fdca26\"],[1.0,\"#f0f921\"]],\"type\":\"surface\"}],\"table\":[{\"cells\":{\"fill\":{\"color\":\"#EBF0F8\"},\"line\":{\"color\":\"white\"}},\"header\":{\"fill\":{\"color\":\"#C8D4E3\"},\"line\":{\"color\":\"white\"}},\"type\":\"table\"}]},\"layout\":{\"annotationdefaults\":{\"arrowcolor\":\"#2a3f5f\",\"arrowhead\":0,\"arrowwidth\":1},\"autotypenumbers\":\"strict\",\"coloraxis\":{\"colorbar\":{\"outlinewidth\":0,\"ticks\":\"\"}},\"colorscale\":{\"diverging\":[[0,\"#8e0152\"],[0.1,\"#c51b7d\"],[0.2,\"#de77ae\"],[0.3,\"#f1b6da\"],[0.4,\"#fde0ef\"],[0.5,\"#f7f7f7\"],[0.6,\"#e6f5d0\"],[0.7,\"#b8e186\"],[0.8,\"#7fbc41\"],[0.9,\"#4d9221\"],[1,\"#276419\"]],\"sequential\":[[0.0,\"#0d0887\"],[0.1111111111111111,\"#46039f\"],[0.2222222222222222,\"#7201a8\"],[0.3333333333333333,\"#9c179e\"],[0.4444444444444444,\"#bd3786\"],[0.5555555555555556,\"#d8576b\"],[0.6666666666666666,\"#ed7953\"],[0.7777777777777778,\"#fb9f3a\"],[0.8888888888888888,\"#fdca26\"],[1.0,\"#f0f921\"]],\"sequentialminus\":[[0.0,\"#0d0887\"],[0.1111111111111111,\"#46039f\"],[0.2222222222222222,\"#7201a8\"],[0.3333333333333333,\"#9c179e\"],[0.4444444444444444,\"#bd3786\"],[0.5555555555555556,\"#d8576b\"],[0.6666666666666666,\"#ed7953\"],[0.7777777777777778,\"#fb9f3a\"],[0.8888888888888888,\"#fdca26\"],[1.0,\"#f0f921\"]]},\"colorway\":[\"#636efa\",\"#EF553B\",\"#00cc96\",\"#ab63fa\",\"#FFA15A\",\"#19d3f3\",\"#FF6692\",\"#B6E880\",\"#FF97FF\",\"#FECB52\"],\"font\":{\"color\":\"#2a3f5f\"},\"geo\":{\"bgcolor\":\"white\",\"lakecolor\":\"white\",\"landcolor\":\"#E5ECF6\",\"showlakes\":true,\"showland\":true,\"subunitcolor\":\"white\"},\"hoverlabel\":{\"align\":\"left\"},\"hovermode\":\"closest\",\"mapbox\":{\"style\":\"light\"},\"paper_bgcolor\":\"white\",\"plot_bgcolor\":\"#E5ECF6\",\"polar\":{\"angularaxis\":{\"gridcolor\":\"white\",\"linecolor\":\"white\",\"ticks\":\"\"},\"bgcolor\":\"#E5ECF6\",\"radialaxis\":{\"gridcolor\":\"white\",\"linecolor\":\"white\",\"ticks\":\"\"}},\"scene\":{\"xaxis\":{\"backgroundcolor\":\"#E5ECF6\",\"gridcolor\":\"white\",\"gridwidth\":2,\"linecolor\":\"white\",\"showbackground\":true,\"ticks\":\"\",\"zerolinecolor\":\"white\"},\"yaxis\":{\"backgroundcolor\":\"#E5ECF6\",\"gridcolor\":\"white\",\"gridwidth\":2,\"linecolor\":\"white\",\"showbackground\":true,\"ticks\":\"\",\"zerolinecolor\":\"white\"},\"zaxis\":{\"backgroundcolor\":\"#E5ECF6\",\"gridcolor\":\"white\",\"gridwidth\":2,\"linecolor\":\"white\",\"showbackground\":true,\"ticks\":\"\",\"zerolinecolor\":\"white\"}},\"shapedefaults\":{\"line\":{\"color\":\"#2a3f5f\"}},\"ternary\":{\"aaxis\":{\"gridcolor\":\"white\",\"linecolor\":\"white\",\"ticks\":\"\"},\"baxis\":{\"gridcolor\":\"white\",\"linecolor\":\"white\",\"ticks\":\"\"},\"bgcolor\":\"#E5ECF6\",\"caxis\":{\"gridcolor\":\"white\",\"linecolor\":\"white\",\"ticks\":\"\"}},\"title\":{\"x\":0.05},\"xaxis\":{\"automargin\":true,\"gridcolor\":\"white\",\"linecolor\":\"white\",\"ticks\":\"\",\"title\":{\"standoff\":15},\"zerolinecolor\":\"white\",\"zerolinewidth\":2},\"yaxis\":{\"automargin\":true,\"gridcolor\":\"white\",\"linecolor\":\"white\",\"ticks\":\"\",\"title\":{\"standoff\":15},\"zerolinecolor\":\"white\",\"zerolinewidth\":2}}},\"xaxis\":{\"anchor\":\"y\",\"domain\":[0.0,1.0],\"title\":{\"text\":\"error\"}},\"yaxis\":{\"anchor\":\"x\",\"domain\":[0.0,1.0],\"title\":{\"text\":\"count\"}},\"legend\":{\"tracegroupgap\":0},\"margin\":{\"t\":60},\"barmode\":\"relative\",\"width\":800},                        {\"responsive\": true}                    ).then(function(){\n",
              "                            \n",
              "var gd = document.getElementById('65a60a62-c631-40cd-9276-d25684b39b65');\n",
              "var x = new MutationObserver(function (mutations, observer) {{\n",
              "        var display = window.getComputedStyle(gd).display;\n",
              "        if (!display || display === 'none') {{\n",
              "            console.log([gd, 'removed!']);\n",
              "            Plotly.purge(gd);\n",
              "            observer.disconnect();\n",
              "        }}\n",
              "}});\n",
              "\n",
              "// Listen for the removal of the full notebook cells\n",
              "var notebookContainer = gd.closest('#notebook-container');\n",
              "if (notebookContainer) {{\n",
              "    x.observe(notebookContainer, {childList: true});\n",
              "}}\n",
              "\n",
              "// Listen for the clearing of the current output cell\n",
              "var outputEl = gd.closest('.output');\n",
              "if (outputEl) {{\n",
              "    x.observe(outputEl, {childList: true});\n",
              "}}\n",
              "\n",
              "                        })                };                            </script>        </div>\n",
              "</body>\n",
              "</html>"
            ]
          },
          "metadata": {}
        }
      ]
    },
    {
      "cell_type": "markdown",
      "source": [
        "Mean Absolute Error - Średni błąd bezwzględny"
      ],
      "metadata": {
        "id": "_cgX8NW0gdZp"
      }
    },
    {
      "cell_type": "code",
      "source": [
        "def mean_absolute_error(y_true, y_pred):\n",
        "    return abs(y_true - y_pred).sum() / len(y_true)\n",
        "\n",
        "mean_absolute_error(y_true, y_pred)"
      ],
      "metadata": {
        "colab": {
          "base_uri": "https://localhost:8080/"
        },
        "id": "c_yHVpPxf_vA",
        "outputId": "dd04216b-7953-4480-bef6-eaa8ce7aeedc"
      },
      "execution_count": 10,
      "outputs": [
        {
          "output_type": "execute_result",
          "data": {
            "text/plain": [
              "8.153597464115926"
            ]
          },
          "metadata": {},
          "execution_count": 10
        }
      ]
    },
    {
      "cell_type": "code",
      "source": [
        "from sklearn.metrics import mean_absolute_error\n",
        "mean_absolute_error(y_true, y_pred)"
      ],
      "metadata": {
        "colab": {
          "base_uri": "https://localhost:8080/"
        },
        "id": "cR-buRbQgl9s",
        "outputId": "ae6e9ddf-8de7-4c43-d4d8-c4d19d37f0a7"
      },
      "execution_count": 12,
      "outputs": [
        {
          "output_type": "execute_result",
          "data": {
            "text/plain": [
              "8.153597464115926"
            ]
          },
          "metadata": {},
          "execution_count": 12
        }
      ]
    },
    {
      "cell_type": "markdown",
      "source": [
        "Mean Absolute Error - Średni błąd bezwzględny"
      ],
      "metadata": {
        "id": "lHGf16-Bg55-"
      }
    },
    {
      "cell_type": "code",
      "source": [
        "def mean_squared_error(y_true, y_pred):\n",
        "    return ((y_true - y_pred) ** 2).sum() / len(y_true)\n",
        "\n",
        "mean_squared_error(y_true, y_pred)"
      ],
      "metadata": {
        "colab": {
          "base_uri": "https://localhost:8080/"
        },
        "id": "U_aQxm6Ggo05",
        "outputId": "cc5149cc-c8a2-4075-ed91-389e112592a9"
      },
      "execution_count": 14,
      "outputs": [
        {
          "output_type": "execute_result",
          "data": {
            "text/plain": [
              "103.618155850509"
            ]
          },
          "metadata": {},
          "execution_count": 14
        }
      ]
    },
    {
      "cell_type": "code",
      "source": [
        "from sklearn.metrics import mean_squared_error\n",
        "\n",
        "mean_squared_error(y_true, y_pred)"
      ],
      "metadata": {
        "colab": {
          "base_uri": "https://localhost:8080/"
        },
        "id": "Jr2wK3NHg8dD",
        "outputId": "7ac26128-da41-42af-cb2e-4b024c9882fe"
      },
      "execution_count": 15,
      "outputs": [
        {
          "output_type": "execute_result",
          "data": {
            "text/plain": [
              "103.618155850509"
            ]
          },
          "metadata": {},
          "execution_count": 15
        }
      ]
    },
    {
      "cell_type": "markdown",
      "source": [
        "Root Mean Squared Error - RMSE - Pierwiastek błędu średniokwadratowego"
      ],
      "metadata": {
        "id": "nwRUqKbGhPpj"
      }
    },
    {
      "cell_type": "code",
      "source": [
        "def root_mean_squared_error(y_true, y_pred):\n",
        "    return np.sqrt(((y_true - y_pred) ** 2).sum() / len(y_true))\n",
        "\n",
        "root_mean_squared_error(y_true, y_pred)"
      ],
      "metadata": {
        "colab": {
          "base_uri": "https://localhost:8080/"
        },
        "id": "VgYNBEE_hJM8",
        "outputId": "e1eb37c7-8198-4191-825b-c5f40da2248d"
      },
      "execution_count": 16,
      "outputs": [
        {
          "output_type": "execute_result",
          "data": {
            "text/plain": [
              "10.179300361542978"
            ]
          },
          "metadata": {},
          "execution_count": 16
        }
      ]
    },
    {
      "cell_type": "code",
      "source": [
        "np.sqrt(mean_squared_error(y_true, y_pred))"
      ],
      "metadata": {
        "colab": {
          "base_uri": "https://localhost:8080/"
        },
        "id": "2ahT2Ex6hTHz",
        "outputId": "250be17a-a450-4ab7-ecf1-59eab5164f07"
      },
      "execution_count": 17,
      "outputs": [
        {
          "output_type": "execute_result",
          "data": {
            "text/plain": [
              "10.179300361542978"
            ]
          },
          "metadata": {},
          "execution_count": 17
        }
      ]
    },
    {
      "cell_type": "markdown",
      "source": [
        "Max Error - Błąd maksymalny"
      ],
      "metadata": {
        "id": "nNE5X4ibhsyc"
      }
    },
    {
      "cell_type": "code",
      "source": [
        "def max_error(y_true, y_pred):\n",
        "    return abs(y_true - y_pred).max()"
      ],
      "metadata": {
        "id": "-LIOjMDNhtRJ"
      },
      "execution_count": 18,
      "outputs": []
    },
    {
      "cell_type": "code",
      "source": [
        "max_error(y_true, y_pred)"
      ],
      "metadata": {
        "colab": {
          "base_uri": "https://localhost:8080/"
        },
        "id": "RqZvEW8VhwRK",
        "outputId": "16ffb038-5e75-45a4-86ce-c5914798a472"
      },
      "execution_count": 19,
      "outputs": [
        {
          "output_type": "execute_result",
          "data": {
            "text/plain": [
              "33.77300944375206"
            ]
          },
          "metadata": {},
          "execution_count": 19
        }
      ]
    },
    {
      "cell_type": "markdown",
      "source": [
        "R2 score - współczynnik determinacji\n"
      ],
      "metadata": {
        "id": "rTnt5OLbhzxH"
      }
    },
    {
      "cell_type": "code",
      "source": [
        "from sklearn.metrics import r2_score\n",
        "\n",
        "r2_score(y_true, y_pred)"
      ],
      "metadata": {
        "colab": {
          "base_uri": "https://localhost:8080/"
        },
        "id": "NN1Aq2mJhykq",
        "outputId": "d823b672-de49-4479-b052-4d11c6c60dc0"
      },
      "execution_count": 20,
      "outputs": [
        {
          "output_type": "execute_result",
          "data": {
            "text/plain": [
              "0.742318484796444"
            ]
          },
          "metadata": {},
          "execution_count": 20
        }
      ]
    },
    {
      "cell_type": "code",
      "source": [
        "def r2_score(y_true, y_pred):\n",
        "    numerator = ((y_true - y_pred) ** 2).sum()\n",
        "    denominator = ((y_true - y_true.mean()) ** 2).sum()\n",
        "    try:\n",
        "        r2 = 1 - numerator / denominator\n",
        "    except ZeroDivisionError:\n",
        "        print('Dzielenie przez zero')\n",
        "    return r2\n"
      ],
      "metadata": {
        "id": "OjfAmiXNh7_t"
      },
      "execution_count": 21,
      "outputs": []
    },
    {
      "cell_type": "code",
      "source": [
        "r2_score(y_true, y_pred)"
      ],
      "metadata": {
        "colab": {
          "base_uri": "https://localhost:8080/"
        },
        "id": "Z39PfDegh_bA",
        "outputId": "80d53b7c-c2d8-42b1-8650-2c3d32071b1b"
      },
      "execution_count": 22,
      "outputs": [
        {
          "output_type": "execute_result",
          "data": {
            "text/plain": [
              "0.742318484796444"
            ]
          },
          "metadata": {},
          "execution_count": 22
        }
      ]
    }
  ]
}